{
 "cells": [
  {
   "cell_type": "code",
   "execution_count": 160,
   "metadata": {},
   "outputs": [],
   "source": [
    "import requests\n",
    "from datetime import datetime, timedelta\n",
    "\n",
    "class UserEventsRepo(object):\n",
    "    def __init__(self):\n",
    "        self.session = requests.Session()\n",
    "        self.session.headers.update({'PRIVATE-TOKEN': '#_YOUR_TOKEN_HERE'})\n",
    "\n",
    "    def get_all_users(self, active=True):\n",
    "        response = self.session.get('http://gitlab.coinecta.com/api/v4/users?active=true')\n",
    "        return response.json()\n",
    "\n",
    "    def get_events(self, user_ids, num_of_days=7):\n",
    "        contribs = []\n",
    "        for user_id in user_ids:\n",
    "            for i in range(0, num_of_days):\n",
    "                before = (datetime.today() - timedelta(days=i)).strftime('%Y-%m-%d')\n",
    "                after = (datetime.today() - timedelta(days=i+2)).strftime('%Y-%m-%d')\n",
    "                response = self.session.get('http://gitlab.coinecta.com/api/v4/users/%s/events?before=%s&after=%s&per_page=5000' % (user_id, before, after))\n",
    "                user_contrib = response.json()\n",
    "                contribs.append(user_contrib)\n",
    "        return [item for sublist in contribs for item in sublist]"
   ]
  },
  {
   "cell_type": "code",
   "execution_count": 165,
   "metadata": {},
   "outputs": [],
   "source": [
    "from datetime import datetime, timedelta\n",
    "\n",
    "users_repo = UserEventsRepo()\n",
    "users = users_repo.get_all_users()\n",
    "uids = [d['id'] for d in users]\n",
    "#after = (datetime.today() - timedelta(days=3)).strftime('%Y-%m-%d')\n",
    "events = users_repo.get_events(uids, 5)"
   ]
  },
  {
   "cell_type": "code",
   "execution_count": null,
   "metadata": {},
   "outputs": [],
   "source": [
    "import math\n",
    "\n",
    "eventsdf = pd.DataFrame(events)\n",
    "eventsdf['created_at'] = eventsdf['created_at'].apply(lambda dt: datetime.strptime(dt[:-5], '%Y-%m-%dT%H:%M:%S').date())\n",
    "events_grouped = eventsdf.groupby(['created_at', 'author_username'])['action_name'].count()\n",
    "heat_data = events_grouped.to_frame().reset_index()\n",
    "heat_data['action_name'] = heat_data['action_name'].apply(lambda act: math.log(int(act)))\n",
    "heat_data['created_at'] = heat_data['created_at'].astype(str)\n",
    "#heat_data\n",
    "heat_data = heat_data.pivot('author_username', 'created_at', 'action_name').fillna(0)\n",
    "#heat_data\n",
    "ax = sns.heatmap(heat_data, cmap=\"viridis\")"
   ]
  },
  {
   "cell_type": "code",
   "execution_count": null,
   "metadata": {},
   "outputs": [],
   "source": []
  }
 ],
 "metadata": {
  "kernelspec": {
   "display_name": "Python 2",
   "language": "python",
   "name": "python2"
  },
  "language_info": {
   "codemirror_mode": {
    "name": "ipython",
    "version": 2
   },
   "file_extension": ".py",
   "mimetype": "text/x-python",
   "name": "python",
   "nbconvert_exporter": "python",
   "pygments_lexer": "ipython2",
   "version": "2.7.15"
  }
 },
 "nbformat": 4,
 "nbformat_minor": 2
}
